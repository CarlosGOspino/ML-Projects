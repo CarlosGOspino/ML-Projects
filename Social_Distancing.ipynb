{
  "nbformat": 4,
  "nbformat_minor": 0,
  "metadata": {
    "colab": {
      "name": "Social Distancing.ipynb",
      "provenance": [],
      "authorship_tag": "ABX9TyNkvk2eu0BSzbsTXBsjLSSq",
      "include_colab_link": true
    },
    "kernelspec": {
      "name": "python3",
      "display_name": "Python 3"
    }
  },
  "cells": [
    {
      "cell_type": "markdown",
      "metadata": {
        "id": "view-in-github",
        "colab_type": "text"
      },
      "source": [
        "<a href=\"https://colab.research.google.com/github/CarlosGOspino/ML-Projects/blob/master/Social_Distancing.ipynb\" target=\"_parent\"><img src=\"https://colab.research.google.com/assets/colab-badge.svg\" alt=\"Open In Colab\"/></a>"
      ]
    },
    {
      "cell_type": "markdown",
      "metadata": {
        "id": "-2lBNJKIneGS",
        "colab_type": "text"
      },
      "source": [
        "This project seeks to identify compliance with Social Distancing in face of the COVID19 Pandemia"
      ]
    },
    {
      "cell_type": "code",
      "metadata": {
        "id": "dM2ND5oamz71",
        "colab_type": "code",
        "colab": {}
      },
      "source": [
        ""
      ],
      "execution_count": 0,
      "outputs": []
    },
    {
      "cell_type": "code",
      "metadata": {
        "id": "2w5UF_Qpnns6",
        "colab_type": "code",
        "colab": {}
      },
      "source": [
        ""
      ],
      "execution_count": 0,
      "outputs": []
    }
  ]
}